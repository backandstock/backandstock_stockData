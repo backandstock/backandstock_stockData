{
 "cells": [
  {
   "cell_type": "code",
   "execution_count": 1,
   "metadata": {},
   "outputs": [],
   "source": [
    "import pandas as pd"
   ]
  },
  {
   "cell_type": "code",
   "execution_count": 2,
   "metadata": {},
   "outputs": [],
   "source": [
    "stockData = pd.read_csv('stockData.csv')\n",
    "stockInfo = pd.read_csv('stockInfo.csv')"
   ]
  },
  {
   "cell_type": "code",
   "execution_count": 3,
   "metadata": {},
   "outputs": [],
   "source": [
    "# 주식 정보의 필요 없는 칼럼 제외\n",
    "stockInfo.drop('Unnamed: 0', axis = 1, inplace = True)\n",
    "\n",
    "# stockCode 기준으로 중복 데이터 삭제\n",
    "stockInfo.drop_duplicates([\"stockCode\"], inplace = True)"
   ]
  },
  {
   "cell_type": "code",
   "execution_count": 4,
   "metadata": {},
   "outputs": [],
   "source": [
    "# 월봉 차트 데이터에서 필요한 컬럼만 추출하기\n",
    "stockData = stockData[['일자', '고가', '저가', '현재가', '시가', '거래량', '거래대금', 'code']]\n",
    "stockData.columns = ['closeDate', 'high', 'low', 'close', 'open', 'volume', 'transaction','stockCode']"
   ]
  },
  {
   "cell_type": "code",
   "execution_count": 5,
   "metadata": {},
   "outputs": [],
   "source": [
    "# 10년전 ~ 2월달 데이터까지 추출함\n",
    "stockData = stockData[(stockData['closeDate']>= 20101200) & (stockData['closeDate']  <= 20220299)]"
   ]
  },
  {
   "cell_type": "code",
   "execution_count": 6,
   "metadata": {},
   "outputs": [],
   "source": [
    "# stockCode 길이 6자리로 통일\n",
    "stockData[\"stockCode\"] = stockData[\"stockCode\"].apply(str)\n",
    "stockData[\"stockCode\"] = stockData[\"stockCode\"].str.pad(width=6, side='left', fillchar='0')\n",
    "stockInfo[\"stockCode\"] = stockInfo[\"stockCode\"].apply(str)\n",
    "stockInfo[\"stockCode\"] = stockInfo[\"stockCode\"].str.pad(width=6, side='left', fillchar='0')"
   ]
  },
  {
   "cell_type": "code",
   "execution_count": 7,
   "metadata": {},
   "outputs": [
    {
     "data": {
      "text/html": [
       "<div>\n",
       "<style scoped>\n",
       "    .dataframe tbody tr th:only-of-type {\n",
       "        vertical-align: middle;\n",
       "    }\n",
       "\n",
       "    .dataframe tbody tr th {\n",
       "        vertical-align: top;\n",
       "    }\n",
       "\n",
       "    .dataframe thead th {\n",
       "        text-align: right;\n",
       "    }\n",
       "</style>\n",
       "<table border=\"1\" class=\"dataframe\">\n",
       "  <thead>\n",
       "    <tr style=\"text-align: right;\">\n",
       "      <th></th>\n",
       "      <th>closeDate</th>\n",
       "      <th>high</th>\n",
       "      <th>low</th>\n",
       "      <th>close</th>\n",
       "      <th>open</th>\n",
       "      <th>volume</th>\n",
       "      <th>transaction</th>\n",
       "      <th>stockCode</th>\n",
       "    </tr>\n",
       "  </thead>\n",
       "  <tbody>\n",
       "  </tbody>\n",
       "</table>\n",
       "</div>"
      ],
      "text/plain": [
       "Empty DataFrame\n",
       "Columns: [closeDate, high, low, close, open, volume, transaction, stockCode]\n",
       "Index: []"
      ]
     },
     "execution_count": 7,
     "metadata": {},
     "output_type": "execute_result"
    }
   ],
   "source": [
    "stockData[stockData[\"stockCode\"].str.len() != 6]"
   ]
  },
  {
   "cell_type": "code",
   "execution_count": 8,
   "metadata": {},
   "outputs": [
    {
     "data": {
      "text/html": [
       "<div>\n",
       "<style scoped>\n",
       "    .dataframe tbody tr th:only-of-type {\n",
       "        vertical-align: middle;\n",
       "    }\n",
       "\n",
       "    .dataframe tbody tr th {\n",
       "        vertical-align: top;\n",
       "    }\n",
       "\n",
       "    .dataframe thead th {\n",
       "        text-align: right;\n",
       "    }\n",
       "</style>\n",
       "<table border=\"1\" class=\"dataframe\">\n",
       "  <thead>\n",
       "    <tr style=\"text-align: right;\">\n",
       "      <th></th>\n",
       "      <th>stockName</th>\n",
       "      <th>market</th>\n",
       "      <th>stockCode</th>\n",
       "      <th>publicDate</th>\n",
       "    </tr>\n",
       "  </thead>\n",
       "  <tbody>\n",
       "  </tbody>\n",
       "</table>\n",
       "</div>"
      ],
      "text/plain": [
       "Empty DataFrame\n",
       "Columns: [stockName, market, stockCode, publicDate]\n",
       "Index: []"
      ]
     },
     "execution_count": 8,
     "metadata": {},
     "output_type": "execute_result"
    }
   ],
   "source": [
    "stockInfo[stockInfo[\"stockCode\"].str.len() != 6]"
   ]
  },
  {
   "cell_type": "code",
   "execution_count": 9,
   "metadata": {},
   "outputs": [],
   "source": [
    "stockMergeData = pd.merge(stockData, stockInfo, on = \"stockCode\", how = \"left\")"
   ]
  },
  {
   "cell_type": "code",
   "execution_count": 10,
   "metadata": {},
   "outputs": [],
   "source": [
    "stockMergeData.sort_values([\"stockCode\", \"closeDate\"], ascending = [True, True], inplace = True)"
   ]
  },
  {
   "cell_type": "code",
   "execution_count": 11,
   "metadata": {},
   "outputs": [],
   "source": [
    "# 정렬하기 \n",
    "stockMergeData.sort_values([\"stockCode\", \"closeDate\"], ascending = [True, True], inplace = True)"
   ]
  },
  {
   "cell_type": "code",
   "execution_count": 12,
   "metadata": {},
   "outputs": [],
   "source": [
    "# 수익률 추가\n",
    "stockMergeData[\"yieldPct\"]= stockMergeData.sort_values([\"stockCode\", \"closeDate\"]).groupby(['stockCode']).close.pct_change()"
   ]
  },
  {
   "cell_type": "code",
   "execution_count": 13,
   "metadata": {},
   "outputs": [],
   "source": [
    "stockMergeData.to_csv(\"stockMergeData.csv\")"
   ]
  }
 ],
 "metadata": {
  "kernelspec": {
   "display_name": "py38_32",
   "language": "python",
   "name": "py38_32"
  },
  "language_info": {
   "codemirror_mode": {
    "name": "ipython",
    "version": 3
   },
   "file_extension": ".py",
   "mimetype": "text/x-python",
   "name": "python",
   "nbconvert_exporter": "python",
   "pygments_lexer": "ipython3",
   "version": "3.8.5"
  }
 },
 "nbformat": 4,
 "nbformat_minor": 4
}
